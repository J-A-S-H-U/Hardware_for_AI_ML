{
  "nbformat": 4,
  "nbformat_minor": 0,
  "metadata": {
    "colab": {
      "provenance": [],
      "gpuType": "T4",
      "authorship_tag": "ABX9TyMzc0+WTPFS51HTsCj66BJV",
      "include_colab_link": true
    },
    "kernelspec": {
      "name": "python3",
      "display_name": "Python 3"
    },
    "language_info": {
      "name": "python"
    },
    "accelerator": "GPU"
  },
  "cells": [
    {
      "cell_type": "markdown",
      "metadata": {
        "id": "view-in-github",
        "colab_type": "text"
      },
      "source": [
        "<a href=\"https://colab.research.google.com/github/J-A-S-H-U/Hardware_for_AI_ML/blob/main/SAXPY.ipynb\" target=\"_parent\"><img src=\"https://colab.research.google.com/assets/colab-badge.svg\" alt=\"Open In Colab\"/></a>"
      ]
    },
    {
      "cell_type": "code",
      "execution_count": 5,
      "metadata": {
        "colab": {
          "base_uri": "https://localhost:8080/"
        },
        "id": "bL2edXPYqZVw",
        "outputId": "cad09cb1-111c-4059-adef-1e0a03773ff1"
      },
      "outputs": [
        {
          "output_type": "stream",
          "name": "stdout",
          "text": [
            "N,TotalTime(ms),KernelTime(ms)\n",
            "32768,48.523457,47.230110\n",
            "65536,0.573088,0.002592\n",
            "131072,1.033024,0.003680\n",
            "262144,1.932992,0.002688\n",
            "524288,3.912384,0.002656\n",
            "1048576,8.959840,0.002880\n",
            "2097152,17.475103,0.002624\n",
            "4194304,34.190880,0.003584\n",
            "8388608,70.373985,0.002656\n",
            "16777216,142.803391,0.003008\n",
            "33554432,291.787323,0.003072\n",
            "\n"
          ]
        }
      ],
      "source": [
        "%%cuda\n",
        "#include <stdio.h>\n",
        "#include <cuda_runtime.h>\n",
        "#include <math.h>\n",
        "\n",
        "__global__\n",
        "void saxpy(int n, float a, float *x, float *y) {\n",
        "    int i = blockIdx.x * blockDim.x + threadIdx.x;\n",
        "    if (i < n) y[i] = a * x[i] + y[i];\n",
        "}\n",
        "\n",
        "int main() {\n",
        "    int start_power = 15;\n",
        "    int end_power = 25;\n",
        "    int threadsPerBlock = 256;\n",
        "\n",
        "    printf(\"N,TotalTime(ms),KernelTime(ms)\\n\");\n",
        "\n",
        "    for (int p = start_power; p <= end_power; p++) {\n",
        "        int N = 1 << p;\n",
        "        float *x, *y, *d_x, *d_y;\n",
        "\n",
        "        cudaEvent_t startTotal, stopTotal, startKernel, stopKernel;\n",
        "        cudaEventCreate(&startTotal);\n",
        "        cudaEventCreate(&stopTotal);\n",
        "        cudaEventCreate(&startKernel);\n",
        "        cudaEventCreate(&stopKernel);\n",
        "\n",
        "        cudaEventRecord(startTotal);\n",
        "        x = (float*)malloc(N * sizeof(float));\n",
        "        y = (float*)malloc(N * sizeof(float));\n",
        "\n",
        "        cudaMalloc(&d_x, N * sizeof(float));\n",
        "        cudaMalloc(&d_y, N * sizeof(float));\n",
        "\n",
        "        for (int i = 0; i < N; i++) {\n",
        "            x[i] = 1.0f;\n",
        "            y[i] = 2.0f;\n",
        "        }\n",
        "\n",
        "        cudaMemcpy(d_x, x, N * sizeof(float), cudaMemcpyHostToDevice);\n",
        "        cudaMemcpy(d_y, y, N * sizeof(float), cudaMemcpyHostToDevice);\n",
        "\n",
        "        // Start kernel timing\n",
        "        cudaEventRecord(startKernel);\n",
        "        saxpy<<<(N + threadsPerBlock - 1) / threadsPerBlock, threadsPerBlock>>>(N, 2.0f, d_x, d_y);\n",
        "        cudaEventRecord(stopKernel);\n",
        "\n",
        "        cudaMemcpy(y, d_y, N * sizeof(float), cudaMemcpyDeviceToHost);\n",
        "\n",
        "        // Stop total timing\n",
        "        cudaEventRecord(stopTotal);\n",
        "        cudaEventSynchronize(stopTotal);\n",
        "        cudaEventSynchronize(stopKernel);\n",
        "\n",
        "        float totalTime = 0.0f, kernelTime = 0.0f;\n",
        "        cudaEventElapsedTime(&totalTime, startTotal, stopTotal);\n",
        "        cudaEventElapsedTime(&kernelTime, startKernel, stopKernel);\n",
        "\n",
        "        printf(\"%d,%f,%f\\n\", N, totalTime, kernelTime);\n",
        "\n",
        "        cudaFree(d_x);\n",
        "        cudaFree(d_y);\n",
        "        free(x);\n",
        "        free(y);\n",
        "\n",
        "        cudaEventDestroy(startTotal);\n",
        "        cudaEventDestroy(stopTotal);\n",
        "        cudaEventDestroy(startKernel);\n",
        "        cudaEventDestroy(stopKernel);\n",
        "    }\n",
        "\n",
        "    return 0;\n",
        "}\n"
      ]
    },
    {
      "cell_type": "code",
      "source": [
        "!python --version\n",
        "!nvcc --version\n",
        "!pip install nvcc4jupyter\n",
        "%load_ext nvcc4jupyter"
      ],
      "metadata": {
        "colab": {
          "base_uri": "https://localhost:8080/"
        },
        "id": "Tqpukd5JsR4a",
        "outputId": "d3ac0ca7-3199-4d9b-db87-8ea94d981e9e"
      },
      "execution_count": 4,
      "outputs": [
        {
          "output_type": "stream",
          "name": "stdout",
          "text": [
            "Python 3.11.12\n",
            "nvcc: NVIDIA (R) Cuda compiler driver\n",
            "Copyright (c) 2005-2024 NVIDIA Corporation\n",
            "Built on Thu_Jun__6_02:18:23_PDT_2024\n",
            "Cuda compilation tools, release 12.5, V12.5.82\n",
            "Build cuda_12.5.r12.5/compiler.34385749_0\n",
            "Collecting nvcc4jupyter\n",
            "  Downloading nvcc4jupyter-1.2.1-py3-none-any.whl.metadata (5.1 kB)\n",
            "Downloading nvcc4jupyter-1.2.1-py3-none-any.whl (10 kB)\n",
            "Installing collected packages: nvcc4jupyter\n",
            "Successfully installed nvcc4jupyter-1.2.1\n",
            "Detected platform \"Colab\". Running its setup...\n",
            "Source files will be saved in \"/tmp/tmp0res6chf\".\n"
          ]
        }
      ]
    }
  ]
}