{
  "nbformat": 4,
  "nbformat_minor": 0,
  "metadata": {
    "colab": {
      "provenance": [],
      "gpuType": "T4",
      "authorship_tag": "ABX9TyND4XTiNUILoTsuZHKDf0uK",
      "include_colab_link": true
    },
    "kernelspec": {
      "name": "python3",
      "display_name": "Python 3"
    },
    "language_info": {
      "name": "python"
    },
    "accelerator": "GPU"
  },
  "cells": [
    {
      "cell_type": "markdown",
      "metadata": {
        "id": "view-in-github",
        "colab_type": "text"
      },
      "source": [
        "<a href=\"https://colab.research.google.com/github/J-A-S-H-U/Hardware_for_AI_ML/blob/main/Untitled4.ipynb\" target=\"_parent\"><img src=\"https://colab.research.google.com/assets/colab-badge.svg\" alt=\"Open In Colab\"/></a>"
      ]
    },
    {
      "cell_type": "code",
      "execution_count": 4,
      "metadata": {
        "colab": {
          "base_uri": "https://localhost:8080/"
        },
        "id": "uVZ1BQvAQa8p",
        "outputId": "edf75194-5c2e-47fc-9f25-6a633ae63391"
      },
      "outputs": [
        {
          "output_type": "stream",
          "name": "stdout",
          "text": [
            "Overwriting feedforward.cu\n"
          ]
        }
      ],
      "source": [
        "%%writefile feedforward.cu\n",
        "#include <iostream>\n",
        "#include <cuda_runtime.h>\n",
        "#include <curand.h>\n",
        "#include <curand_kernel.h>\n",
        "\n",
        "#define INPUT_SIZE 4\n",
        "#define HIDDEN_SIZE 5\n",
        "#define OUTPUT_SIZE 1\n",
        "\n",
        "__global__ void feedforward(float *input, float *W1, float *b1, float *W2, float *b2, float *output) {\n",
        "    // Hidden layer\n",
        "    int tid = threadIdx.x;\n",
        "    if (tid < HIDDEN_SIZE) {\n",
        "        float sum = 0.0f;\n",
        "        for (int i = 0; i < INPUT_SIZE; i++) {\n",
        "            sum += input[i] * W1[i * HIDDEN_SIZE + tid];\n",
        "        }\n",
        "        sum += b1[tid];\n",
        "        // Simple ReLU activation\n",
        "        output[tid] = fmaxf(0.0f, sum);\n",
        "    }\n",
        "    __syncthreads();\n",
        "\n",
        "    // Output layer (1 output neuron, use tid=0)\n",
        "    if (tid == 0) {\n",
        "        float sum = 0.0f;\n",
        "        for (int i = 0; i < HIDDEN_SIZE; i++) {\n",
        "            sum += output[i] * W2[i];\n",
        "        }\n",
        "        sum += b2[0];\n",
        "        output[0] = sum;\n",
        "    }\n",
        "}\n",
        "\n",
        "int main() {\n",
        "    float h_input[INPUT_SIZE] = {1.0f, 0.5f, -1.0f, 2.0f};\n",
        "    float h_W1[INPUT_SIZE * HIDDEN_SIZE];\n",
        "    float h_b1[HIDDEN_SIZE];\n",
        "    float h_W2[HIDDEN_SIZE];\n",
        "    float h_b2[1] = {0.1f};\n",
        "    float h_output[HIDDEN_SIZE];  // reuse for both hidden and output\n",
        "\n",
        "    // Initialize weights\n",
        "    for (int i = 0; i < INPUT_SIZE * HIDDEN_SIZE; i++) h_W1[i] = 0.1f;\n",
        "    for (int i = 0; i < HIDDEN_SIZE; i++) h_b1[i] = 0.1f;\n",
        "    for (int i = 0; i < HIDDEN_SIZE; i++) h_W2[i] = 0.1f;\n",
        "\n",
        "    // Device memory\n",
        "    float *d_input, *d_W1, *d_b1, *d_W2, *d_b2, *d_output;\n",
        "    cudaMalloc((void**)&d_input, INPUT_SIZE * sizeof(float));\n",
        "    cudaMalloc((void**)&d_W1, INPUT_SIZE * HIDDEN_SIZE * sizeof(float));\n",
        "    cudaMalloc((void**)&d_b1, HIDDEN_SIZE * sizeof(float));\n",
        "    cudaMalloc((void**)&d_W2, HIDDEN_SIZE * sizeof(float));\n",
        "    cudaMalloc((void**)&d_b2, sizeof(float));\n",
        "    cudaMalloc((void**)&d_output, HIDDEN_SIZE * sizeof(float)); // reused for final output\n",
        "\n",
        "    // Copy to device\n",
        "    cudaMemcpy(d_input, h_input, INPUT_SIZE * sizeof(float), cudaMemcpyHostToDevice);\n",
        "    cudaMemcpy(d_W1, h_W1, INPUT_SIZE * HIDDEN_SIZE * sizeof(float), cudaMemcpyHostToDevice);\n",
        "    cudaMemcpy(d_b1, h_b1, HIDDEN_SIZE * sizeof(float), cudaMemcpyHostToDevice);\n",
        "    cudaMemcpy(d_W2, h_W2, HIDDEN_SIZE * sizeof(float), cudaMemcpyHostToDevice);\n",
        "    cudaMemcpy(d_b2, h_b2, sizeof(float), cudaMemcpyHostToDevice);\n",
        "\n",
        "    // Launch kernel\n",
        "    feedforward<<<1, HIDDEN_SIZE>>>(d_input, d_W1, d_b1, d_W2, d_b2, d_output);\n",
        "\n",
        "    // Copy back result\n",
        "    cudaMemcpy(h_output, d_output, sizeof(float), cudaMemcpyDeviceToHost);\n",
        "    std::cout << \"Output: \" << h_output[0] << std::endl;\n",
        "\n",
        "    cudaFree(d_input); cudaFree(d_W1); cudaFree(d_b1); cudaFree(d_W2); cudaFree(d_b2); cudaFree(d_output);\n",
        "    return 0;\n",
        "}\n"
      ]
    },
    {
      "cell_type": "markdown",
      "source": [
        "CUDA VERSION"
      ],
      "metadata": {
        "id": "-G7ilZl0QzYt"
      }
    },
    {
      "cell_type": "code",
      "source": [
        "!nvcc feedforward.cu -o feedforward\n",
        "!./feedforward"
      ],
      "metadata": {
        "colab": {
          "base_uri": "https://localhost:8080/"
        },
        "id": "uE8XhHODQjMw",
        "outputId": "25a73a2b-eb86-4034-8be3-361ae0ab6d6c"
      },
      "execution_count": 2,
      "outputs": [
        {
          "output_type": "stream",
          "name": "stdout",
          "text": [
            "Output: 0\n"
          ]
        }
      ]
    },
    {
      "cell_type": "code",
      "source": [
        "import torch\n",
        "import torch.nn as nn\n",
        "import torch.nn.functional as F\n",
        "\n",
        "# Define the fixed input (like in CUDA code)\n",
        "input_tensor = torch.tensor([1.0, 0.5, -1.0, 2.0])\n",
        "\n",
        "# Define fixed weights and biases (all 0.1 like in CUDA)\n",
        "W1 = torch.full((4, 5), 0.1)     # shape: [input_size, hidden_size]\n",
        "b1 = torch.full((5,), 0.1)       # shape: [hidden_size]\n",
        "W2 = torch.full((5,), 0.1)       # shape: [hidden_size]\n",
        "b2 = torch.tensor(0.1)           # scalar bias\n",
        "\n",
        "# Forward pass manually\n",
        "# Hidden layer computation\n",
        "hidden = torch.matmul(input_tensor, W1) + b1\n",
        "hidden = F.relu(hidden)\n",
        "\n",
        "# Output layer computation\n",
        "output = torch.dot(hidden, W2) + b2\n",
        "\n",
        "# Print final output\n",
        "print(\"Output:\", output.item())\n"
      ],
      "metadata": {
        "colab": {
          "base_uri": "https://localhost:8080/"
        },
        "id": "u00RcYe_Q3s3",
        "outputId": "9abdc1c5-efed-4c05-9f39-3d84bd53ff95"
      },
      "execution_count": 5,
      "outputs": [
        {
          "output_type": "stream",
          "name": "stdout",
          "text": [
            "Output: 0.2750000059604645\n"
          ]
        }
      ]
    },
    {
      "cell_type": "markdown",
      "source": [
        "PyTorch Version"
      ],
      "metadata": {
        "id": "OSd-bGwGRZaC"
      }
    },
    {
      "cell_type": "code",
      "source": [
        "%%writefile feedforward.cu\n",
        "\n",
        "#include <iostream>\n",
        "#include <cuda_runtime.h>\n",
        "\n",
        "#define INPUT_SIZE 4\n",
        "#define HIDDEN_SIZE 5\n",
        "#define OUTPUT_SIZE 1\n",
        "\n",
        "__global__ void feedforward(float *input, float *W1, float *b1, float *W2, float *b2, float *output) {\n",
        "    int tid = threadIdx.x;\n",
        "    if (tid < HIDDEN_SIZE) {\n",
        "        float sum = 0.0f;\n",
        "        for (int i = 0; i < INPUT_SIZE; i++) {\n",
        "            sum += input[i] * W1[i * HIDDEN_SIZE + tid];\n",
        "        }\n",
        "        sum += b1[tid];\n",
        "        output[tid] = fmaxf(0.0f, sum);\n",
        "    }\n",
        "    __syncthreads();\n",
        "\n",
        "    if (tid == 0) {\n",
        "        float sum = 0.0f;\n",
        "        for (int i = 0; i < HIDDEN_SIZE; i++) {\n",
        "            sum += output[i] * W2[i];\n",
        "        }\n",
        "        sum += b2[0];\n",
        "        output[0] = sum;\n",
        "    }\n",
        "}\n",
        "\n",
        "int main() {\n",
        "    float h_input[INPUT_SIZE] = {1.0f, 0.5f, -1.0f, 2.0f};\n",
        "    float h_W1[INPUT_SIZE * HIDDEN_SIZE];\n",
        "    float h_b1[HIDDEN_SIZE];\n",
        "    float h_W2[HIDDEN_SIZE];\n",
        "    float h_b2[1] = {0.1f};\n",
        "    float h_output[HIDDEN_SIZE];\n",
        "\n",
        "    for (int i = 0; i < INPUT_SIZE * HIDDEN_SIZE; i++) h_W1[i] = 0.1f;\n",
        "    for (int i = 0; i < HIDDEN_SIZE; i++) h_b1[i] = 0.1f;\n",
        "    for (int i = 0; i < HIDDEN_SIZE; i++) h_W2[i] = 0.1f;\n",
        "\n",
        "    float *d_input, *d_W1, *d_b1, *d_W2, *d_b2, *d_output;\n",
        "    cudaMalloc((void**)&d_input, INPUT_SIZE * sizeof(float));\n",
        "    cudaMalloc((void**)&d_W1, INPUT_SIZE * HIDDEN_SIZE * sizeof(float));\n",
        "    cudaMalloc((void**)&d_b1, HIDDEN_SIZE * sizeof(float));\n",
        "    cudaMalloc((void**)&d_W2, HIDDEN_SIZE * sizeof(float));\n",
        "    cudaMalloc((void**)&d_b2, sizeof(float));\n",
        "    cudaMalloc((void**)&d_output, HIDDEN_SIZE * sizeof(float));\n",
        "\n",
        "    cudaMemcpy(d_input, h_input, INPUT_SIZE * sizeof(float), cudaMemcpyHostToDevice);\n",
        "    cudaMemcpy(d_W1, h_W1, INPUT_SIZE * HIDDEN_SIZE * sizeof(float), cudaMemcpyHostToDevice);\n",
        "    cudaMemcpy(d_b1, h_b1, HIDDEN_SIZE * sizeof(float), cudaMemcpyHostToDevice);\n",
        "    cudaMemcpy(d_W2, h_W2, HIDDEN_SIZE * sizeof(float), cudaMemcpyHostToDevice);\n",
        "    cudaMemcpy(d_b2, h_b2, sizeof(float), cudaMemcpyHostToDevice);\n",
        "\n",
        "    // Measure memory usage before kernel execution\n",
        "    size_t free_mem_before, total_mem;\n",
        "    cudaMemGetInfo(&free_mem_before, &total_mem);\n",
        "\n",
        "    // Measure execution time\n",
        "    cudaEvent_t start, stop;\n",
        "    cudaEventCreate(&start);\n",
        "    cudaEventCreate(&stop);\n",
        "    cudaEventRecord(start, 0);\n",
        "\n",
        "    feedforward<<<1, HIDDEN_SIZE>>>(d_input, d_W1, d_b1, d_W2, d_b2, d_output);\n",
        "\n",
        "    cudaEventRecord(stop, 0);\n",
        "    cudaEventSynchronize(stop);\n",
        "    float milliseconds = 0;\n",
        "    cudaEventElapsedTime(&milliseconds, start, stop);\n",
        "\n",
        "    // Measure memory usage after kernel execution\n",
        "    size_t free_mem_after;\n",
        "    cudaMemGetInfo(&free_mem_after, &total_mem);\n",
        "\n",
        "    float h_result;\n",
        "    cudaMemcpy(&h_result, d_output, sizeof(float), cudaMemcpyDeviceToHost);\n",
        "    std::cout << \"Output: \" << h_result << std::endl;\n",
        "    std::cout << \"Kernel execution time: \" << milliseconds << \" ms\" << std::endl;\n",
        "    std::cout << \"GPU memory used: \" << (free_mem_before - free_mem_after) / (1024.0 * 1024.0) << \" MB\" << std::endl;\n",
        "\n",
        "    cudaFree(d_input); cudaFree(d_W1); cudaFree(d_b1);\n",
        "    cudaFree(d_W2); cudaFree(d_b2); cudaFree(d_output);\n",
        "    cudaEventDestroy(start); cudaEventDestroy(stop);\n",
        "    return 0;\n",
        "}\n"
      ],
      "metadata": {
        "colab": {
          "base_uri": "https://localhost:8080/"
        },
        "id": "weYcwlRdVUYO",
        "outputId": "8eb4c42a-91d9-4435-ef08-2cc41698fdbf"
      },
      "execution_count": 9,
      "outputs": [
        {
          "output_type": "stream",
          "name": "stdout",
          "text": [
            "Overwriting feedforward.cu\n"
          ]
        }
      ]
    },
    {
      "cell_type": "code",
      "source": [
        "!nvcc feedforward.cu -o feedforward\n",
        "!./feedforward"
      ],
      "metadata": {
        "colab": {
          "base_uri": "https://localhost:8080/"
        },
        "id": "pX6y9RFkVm80",
        "outputId": "f3cdfe37-66eb-4b7a-cf05-9474ab9f0f57"
      },
      "execution_count": 11,
      "outputs": [
        {
          "output_type": "stream",
          "name": "stdout",
          "text": [
            "\u001b[01m\u001b[0m\u001b[01mfeedforward.cu(37)\u001b[0m: \u001b[01;35mwarning\u001b[0m #177-D: variable \u001b[01m\"h_output\"\u001b[0m was declared but never referenced\n",
            "      float h_output[5];\n",
            "            ^\n",
            "\n",
            "\u001b[01;36m\u001b[0m\u001b[01;36mRemark\u001b[0m: The warnings can be suppressed with \"-diag-suppress <warning-number>\"\n",
            "\n",
            "Output: 0\n",
            "Kernel execution time: 7.57187 ms\n",
            "GPU memory used: 0 MB\n"
          ]
        }
      ]
    },
    {
      "cell_type": "markdown",
      "source": [
        "Benchmarking the CUDA Code"
      ],
      "metadata": {
        "id": "02PlGhG3V9Mo"
      }
    },
    {
      "cell_type": "code",
      "source": [
        "import torch\n",
        "import torch.nn as nn\n",
        "import torch.nn.functional as F\n",
        "import time\n",
        "\n",
        "# Define the fixed input (as in the CUDA code)\n",
        "input_tensor = torch.tensor([1.0, 0.5, -1.0, 2.0])\n",
        "\n",
        "# Define fixed weights and biases (all 0.1 as in the CUDA code)\n",
        "W1 = torch.full((4, 5), 0.1)     # shape: [input_size, hidden_size]\n",
        "b1 = torch.full((5,), 0.1)       # shape: [hidden_size]\n",
        "W2 = torch.full((5,), 0.1)       # shape: [hidden_size]\n",
        "b2 = torch.tensor(0.1)           # scalar bias\n",
        "\n",
        "# Move tensors to the appropriate device\n",
        "device = torch.device(\"cuda\" if torch.cuda.is_available() else \"cpu\")\n",
        "input_tensor = input_tensor.to(device)\n",
        "W1 = W1.to(device)\n",
        "b1 = b1.to(device)\n",
        "W2 = W2.to(device)\n",
        "b2 = b2.to(device)\n",
        "\n",
        "# Warm-up iterations\n",
        "for _ in range(10):\n",
        "    hidden = torch.matmul(input_tensor, W1) + b1\n",
        "    hidden = F.relu(hidden)\n",
        "    output = torch.dot(hidden, W2) + b2\n",
        "\n",
        "# Benchmarking\n",
        "torch.cuda.reset_peak_memory_stats(device)\n",
        "start_time = time.time()\n",
        "hidden = torch.matmul(input_tensor, W1) + b1\n",
        "hidden = F.relu(hidden)\n",
        "output = torch.dot(hidden, W2) + b2\n",
        "torch.cuda.synchronize()  # Ensure all CUDA operations are complete\n",
        "end_time = time.time()\n",
        "\n",
        "# Retrieve peak memory usage\n",
        "peak_memory = torch.cuda.max_memory_allocated(device) / (1024 ** 2)  # Convert bytes to MB\n",
        "\n",
        "# Print results\n",
        "print(f\"Output: {output.item()}\")\n",
        "print(f\"Execution Time: {(end_time - start_time) * 1000:.6f} ms\")\n",
        "print(f\"Peak Memory Usage: {peak_memory:.6f} MB\")\n"
      ],
      "metadata": {
        "colab": {
          "base_uri": "https://localhost:8080/"
        },
        "id": "X-HJjT9cV_pg",
        "outputId": "9666423b-88a6-4843-82bd-d1d9de506331"
      },
      "execution_count": 13,
      "outputs": [
        {
          "output_type": "stream",
          "name": "stdout",
          "text": [
            "Output: 0.2750000059604645\n",
            "Execution Time: 0.452757 ms\n",
            "Peak Memory Usage: 8.129395 MB\n"
          ]
        }
      ]
    },
    {
      "cell_type": "markdown",
      "source": [
        "Benchmarking PyTorch Code"
      ],
      "metadata": {
        "id": "Boqxlvk3WGZa"
      }
    },
    {
      "cell_type": "code",
      "source": [
        "import matplotlib.pyplot as plt\n",
        "\n",
        "# Sample data (replace with your actual measurements)\n",
        "implementations = ['CUDA', 'PyTorch']\n",
        "execution_times = [7.57187, 0.452757]  # Replace with actual values\n",
        "memory_usages = [0, 8.129395]  # Replace with actual values\n",
        "\n",
        "x = range(len(implementations))\n",
        "\n",
        "fig, ax1 = plt.subplots()\n",
        "\n",
        "color = 'tab:blue'\n",
        "ax1.set_xlabel('Implementation')\n",
        "ax1.set_ylabel('Execution Time (ms)', color=color)\n",
        "ax1.bar(x, execution_times, color=color, width=0.4, align='center', label='Execution Time')\n",
        "ax1.tick_params(axis='y', labelcolor=color)\n",
        "ax1.set_xticks(x)\n",
        "ax1.set_xticklabels(implementations)\n",
        "\n",
        "ax2 = ax1.twinx()\n",
        "color = 'tab:red'\n",
        "ax2.set_ylabel('Memory Usage (MB)', color=color)\n",
        "ax2.plot(x, memory_usages, color=color, marker='o', label='Memory Usage')\n",
        "ax2.tick_params(axis='y', labelcolor=color)\n",
        "\n",
        "fig.tight_layout()\n",
        "plt.title('CUDA vs. PyTorch Performance Comparison')\n",
        "plt.show()"
      ],
      "metadata": {
        "colab": {
          "base_uri": "https://localhost:8080/",
          "height": 509
        },
        "id": "gfybWBWjWIuW",
        "outputId": "ba33a05b-2f9c-44f7-b556-34d597cb4283"
      },
      "execution_count": 15,
      "outputs": [
        {
          "output_type": "display_data",
          "data": {
            "text/plain": [
              "<Figure size 640x480 with 2 Axes>"
            ],
            "image/png": "[encoded data removed]"
          },
          "metadata": {}
        }
      ]
    }
  ]
}